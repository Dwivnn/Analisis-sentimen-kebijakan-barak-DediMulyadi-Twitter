{
  "nbformat": 4,
  "nbformat_minor": 0,
  "metadata": {
    "colab": {
      "provenance": []
    },
    "kernelspec": {
      "name": "python3",
      "display_name": "Python 3"
    },
    "language_info": {
      "name": "python"
    }
  },
  "cells": [
    {
      "cell_type": "code",
      "execution_count": 1,
      "metadata": {
        "colab": {
          "base_uri": "https://localhost:8080/"
        },
        "id": "SiUNn24SRIsc",
        "outputId": "3aa01c08-51e9-4edd-dfde-768472a70571"
      },
      "outputs": [
        {
          "output_type": "stream",
          "name": "stdout",
          "text": [
            "Collecting Sastrawi\n",
            "  Downloading Sastrawi-1.0.1-py2.py3-none-any.whl.metadata (909 bytes)\n",
            "Downloading Sastrawi-1.0.1-py2.py3-none-any.whl (209 kB)\n",
            "\u001b[?25l   \u001b[90m━━━━━━━━━━━━━━━━━━━━━━━━━━━━━━━━━━━━━━━━\u001b[0m \u001b[32m0.0/209.7 kB\u001b[0m \u001b[31m?\u001b[0m eta \u001b[36m-:--:--\u001b[0m\r\u001b[2K   \u001b[91m━━━━━━━━━━━━━\u001b[0m\u001b[91m╸\u001b[0m\u001b[90m━━━━━━━━━━━━━━━━━━━━━━━━━━\u001b[0m \u001b[32m71.7/209.7 kB\u001b[0m \u001b[31m2.4 MB/s\u001b[0m eta \u001b[36m0:00:01\u001b[0m\r\u001b[2K   \u001b[90m━━━━━━━━━━━━━━━━━━━━━━━━━━━━━━━━━━━━━━━━\u001b[0m \u001b[32m209.7/209.7 kB\u001b[0m \u001b[31m2.9 MB/s\u001b[0m eta \u001b[36m0:00:00\u001b[0m\n",
            "\u001b[?25hInstalling collected packages: Sastrawi\n",
            "Successfully installed Sastrawi-1.0.1\n"
          ]
        }
      ],
      "source": [
        "!pip install Sastrawi"
      ]
    },
    {
      "cell_type": "code",
      "source": [
        "!pip install openpyxl"
      ],
      "metadata": {
        "colab": {
          "base_uri": "https://localhost:8080/"
        },
        "id": "5KkNaYknRXka",
        "outputId": "dcfdd819-f429-490c-cabf-e7c9e48a5697"
      },
      "execution_count": 2,
      "outputs": [
        {
          "output_type": "stream",
          "name": "stdout",
          "text": [
            "Requirement already satisfied: openpyxl in /usr/local/lib/python3.11/dist-packages (3.1.5)\n",
            "Requirement already satisfied: et-xmlfile in /usr/local/lib/python3.11/dist-packages (from openpyxl) (2.0.0)\n"
          ]
        }
      ]
    },
    {
      "cell_type": "code",
      "source": [
        "import re\n",
        "import string\n",
        "import pandas as pd\n",
        "from Sastrawi.Stemmer.StemmerFactory import StemmerFactory\n",
        "from nltk.corpus import stopwords"
      ],
      "metadata": {
        "id": "aecRvNZFRdjV"
      },
      "execution_count": 3,
      "outputs": []
    },
    {
      "cell_type": "code",
      "source": [
        "import nltk\n",
        "nltk.download('stopwords')\n"
      ],
      "metadata": {
        "colab": {
          "base_uri": "https://localhost:8080/"
        },
        "id": "CNSM3tM3RhfX",
        "outputId": "d979e6b1-abea-490e-fdd6-d96568cfa483"
      },
      "execution_count": 4,
      "outputs": [
        {
          "output_type": "stream",
          "name": "stderr",
          "text": [
            "[nltk_data] Downloading package stopwords to /root/nltk_data...\n",
            "[nltk_data]   Unzipping corpora/stopwords.zip.\n"
          ]
        },
        {
          "output_type": "execute_result",
          "data": {
            "text/plain": [
              "True"
            ]
          },
          "metadata": {},
          "execution_count": 4
        }
      ]
    },
    {
      "cell_type": "code",
      "source": [
        "from nltk.corpus import stopwords\n",
        "stop_words = stopwords.words('indonesian')\n"
      ],
      "metadata": {
        "id": "0CqnoftxRk99"
      },
      "execution_count": 5,
      "outputs": []
    },
    {
      "cell_type": "code",
      "source": [
        "# Buat stemmer bahasa Indonesia\n",
        "factory = StemmerFactory()\n",
        "stemmer = factory.create_stemmer()"
      ],
      "metadata": {
        "id": "RSi3QBw-RoPF"
      },
      "execution_count": 6,
      "outputs": []
    },
    {
      "cell_type": "code",
      "source": [
        "# Fungsi preprocessing\n",
        "def clean_text(text):\n",
        "    text = text.lower()\n",
        "    text = re.sub(r\"http\\S+|www\\S+|https\\S+\", '', text)  # hapus URL\n",
        "    text = re.sub(r'\\@\\w+|\\#','', text)  # hapus mention dan hashtag\n",
        "    text = text.translate(str.maketrans('', '', string.punctuation))  # hapus tanda baca\n",
        "    text = re.sub(r'\\d+', '', text)  # hapus angka\n",
        "    text = stemmer.stem(text)  # stemming\n",
        "    text = ' '.join([word for word in text.split() if word not in stopwords.words('indonesian')])  # hapus stopwords\n",
        "    return text"
      ],
      "metadata": {
        "id": "HPenWH3JS3Cf"
      },
      "execution_count": 9,
      "outputs": []
    },
    {
      "cell_type": "code",
      "source": [
        "# Contoh penggunaan\n",
        "df = pd.read_excel(\"dedimulyadibarak.xlsx\", engine='openpyxl')\n",
        "df['cleaned'] = df['full_text'].apply(clean_text)"
      ],
      "metadata": {
        "id": "90phnVqdRzHF"
      },
      "execution_count": 10,
      "outputs": []
    },
    {
      "cell_type": "code",
      "source": [
        "print(\"\\nData setelah dibersihkan:\")\n",
        "print(df[['full_text', 'cleaned']].head())"
      ],
      "metadata": {
        "colab": {
          "base_uri": "https://localhost:8080/"
        },
        "id": "fn9HgD8sRrjv",
        "outputId": "5c095a14-cd0f-42c8-e075-009308484436"
      },
      "execution_count": 11,
      "outputs": [
        {
          "output_type": "stream",
          "name": "stdout",
          "text": [
            "\n",
            "Data setelah dibersihkan:\n",
            "                                           full_text  \\\n",
            "0  WAKIL Ketua Komisi Perlindungan Anak Indonesia...   \n",
            "1  Wakil Ketua Komisi Perlindungan Anak Indonesia...   \n",
            "2  @bacottetanggaid masukan mereka ke barak king ...   \n",
            "3  Dua Kepala Daerah di Jawa Tengah ikuti Jejak G...   \n",
            "4  Tak Hanya Siswa Bermasalah Dedi Mulyadi Akan P...   \n",
            "\n",
            "                                             cleaned  \n",
            "0  wakil ketua komisi lindung anak indonesia kpai...  \n",
            "1  wakil ketua komisi lindung anak indonesia kpai...  \n",
            "2                      masuk barak king dedi mulyadi  \n",
            "3  kepala daerah jawa jejak gubernur dedi mulyadi...  \n",
            "4  siswa dedi mulyadi luas didik barak militer li...  \n"
          ]
        }
      ]
    },
    {
      "cell_type": "code",
      "source": [
        "df[['full_text', 'cleaned']].sample(10)  # tampilkan sample komentar\n"
      ],
      "metadata": {
        "colab": {
          "base_uri": "https://localhost:8080/",
          "height": 363
        },
        "id": "PZV7toxzTHL4",
        "outputId": "bed2a586-33c4-4bb9-bbe8-3c980adb4b02"
      },
      "execution_count": 12,
      "outputs": [
        {
          "output_type": "execute_result",
          "data": {
            "text/plain": [
              "                                             full_text  \\\n",
              "607  Seto Mulyadi turut meninjau pelaksanaan progra...   \n",
              "182  Gubernur Jawa Barat Dedi Mulyadi secara berapi...   \n",
              "25   Langkah Gubernur Jawa Barat Dedi Mulyadi mengi...   \n",
              "311  Dedi Mulyadi Terabas Pernyataan KPAI Sorot Sis...   \n",
              "497  Kang Dedi Mulyadi (KDM) ingin menerapkan keadi...   \n",
              "854  [FULL] Menteri HAM Natalius Pigai Sikapi Kebij...   \n",
              "454  Viral Seorang Wanita Minta Gubernur Jawa Barat...   \n",
              "851  @sonfused @chiquoita Dedi mulyadi himbau anak ...   \n",
              "375  Setiap individu yg menyalahkan korban kekerasa...   \n",
              "841  Siap-siap! Dedi Mulyadi Bidik Orang Dewasa Iku...   \n",
              "\n",
              "                                               cleaned  \n",
              "607  seto mulyadi tinjau laksana program didik kara...  \n",
              "182  gubernur jawa barat dedi mulyadi berapiapi pro...  \n",
              "25   langkah gubernur jawa barat dedi mulyadi kirim...  \n",
              "311  dedi mulyadi rabas nyata kpai sorot siswa bara...  \n",
              "497  kang dedi mulyadi kdm terap adil restorative j...  \n",
              "854  full menteri ham natalius pigai sikap bijak de...  \n",
              "454  viral orang wanita gubernur jawa barat dedi mu...  \n",
              "851  dedi mulyadi himbau anak gamonin trainee gak m...  \n",
              "375  individu yg salah korban keras seksual wajib m...  \n",
              "841  siapsiap dedi mulyadi bidik orang dewasa progr...  "
            ],
            "text/html": [
              "\n",
              "  <div id=\"df-c6a0618d-2741-44fa-af08-b384e0a71ea3\" class=\"colab-df-container\">\n",
              "    <div>\n",
              "<style scoped>\n",
              "    .dataframe tbody tr th:only-of-type {\n",
              "        vertical-align: middle;\n",
              "    }\n",
              "\n",
              "    .dataframe tbody tr th {\n",
              "        vertical-align: top;\n",
              "    }\n",
              "\n",
              "    .dataframe thead th {\n",
              "        text-align: right;\n",
              "    }\n",
              "</style>\n",
              "<table border=\"1\" class=\"dataframe\">\n",
              "  <thead>\n",
              "    <tr style=\"text-align: right;\">\n",
              "      <th></th>\n",
              "      <th>full_text</th>\n",
              "      <th>cleaned</th>\n",
              "    </tr>\n",
              "  </thead>\n",
              "  <tbody>\n",
              "    <tr>\n",
              "      <th>607</th>\n",
              "      <td>Seto Mulyadi turut meninjau pelaksanaan progra...</td>\n",
              "      <td>seto mulyadi tinjau laksana program didik kara...</td>\n",
              "    </tr>\n",
              "    <tr>\n",
              "      <th>182</th>\n",
              "      <td>Gubernur Jawa Barat Dedi Mulyadi secara berapi...</td>\n",
              "      <td>gubernur jawa barat dedi mulyadi berapiapi pro...</td>\n",
              "    </tr>\n",
              "    <tr>\n",
              "      <th>25</th>\n",
              "      <td>Langkah Gubernur Jawa Barat Dedi Mulyadi mengi...</td>\n",
              "      <td>langkah gubernur jawa barat dedi mulyadi kirim...</td>\n",
              "    </tr>\n",
              "    <tr>\n",
              "      <th>311</th>\n",
              "      <td>Dedi Mulyadi Terabas Pernyataan KPAI Sorot Sis...</td>\n",
              "      <td>dedi mulyadi rabas nyata kpai sorot siswa bara...</td>\n",
              "    </tr>\n",
              "    <tr>\n",
              "      <th>497</th>\n",
              "      <td>Kang Dedi Mulyadi (KDM) ingin menerapkan keadi...</td>\n",
              "      <td>kang dedi mulyadi kdm terap adil restorative j...</td>\n",
              "    </tr>\n",
              "    <tr>\n",
              "      <th>854</th>\n",
              "      <td>[FULL] Menteri HAM Natalius Pigai Sikapi Kebij...</td>\n",
              "      <td>full menteri ham natalius pigai sikap bijak de...</td>\n",
              "    </tr>\n",
              "    <tr>\n",
              "      <th>454</th>\n",
              "      <td>Viral Seorang Wanita Minta Gubernur Jawa Barat...</td>\n",
              "      <td>viral orang wanita gubernur jawa barat dedi mu...</td>\n",
              "    </tr>\n",
              "    <tr>\n",
              "      <th>851</th>\n",
              "      <td>@sonfused @chiquoita Dedi mulyadi himbau anak ...</td>\n",
              "      <td>dedi mulyadi himbau anak gamonin trainee gak m...</td>\n",
              "    </tr>\n",
              "    <tr>\n",
              "      <th>375</th>\n",
              "      <td>Setiap individu yg menyalahkan korban kekerasa...</td>\n",
              "      <td>individu yg salah korban keras seksual wajib m...</td>\n",
              "    </tr>\n",
              "    <tr>\n",
              "      <th>841</th>\n",
              "      <td>Siap-siap! Dedi Mulyadi Bidik Orang Dewasa Iku...</td>\n",
              "      <td>siapsiap dedi mulyadi bidik orang dewasa progr...</td>\n",
              "    </tr>\n",
              "  </tbody>\n",
              "</table>\n",
              "</div>\n",
              "    <div class=\"colab-df-buttons\">\n",
              "\n",
              "  <div class=\"colab-df-container\">\n",
              "    <button class=\"colab-df-convert\" onclick=\"convertToInteractive('df-c6a0618d-2741-44fa-af08-b384e0a71ea3')\"\n",
              "            title=\"Convert this dataframe to an interactive table.\"\n",
              "            style=\"display:none;\">\n",
              "\n",
              "  <svg xmlns=\"http://www.w3.org/2000/svg\" height=\"24px\" viewBox=\"0 -960 960 960\">\n",
              "    <path d=\"M120-120v-720h720v720H120Zm60-500h600v-160H180v160Zm220 220h160v-160H400v160Zm0 220h160v-160H400v160ZM180-400h160v-160H180v160Zm440 0h160v-160H620v160ZM180-180h160v-160H180v160Zm440 0h160v-160H620v160Z\"/>\n",
              "  </svg>\n",
              "    </button>\n",
              "\n",
              "  <style>\n",
              "    .colab-df-container {\n",
              "      display:flex;\n",
              "      gap: 12px;\n",
              "    }\n",
              "\n",
              "    .colab-df-convert {\n",
              "      background-color: #E8F0FE;\n",
              "      border: none;\n",
              "      border-radius: 50%;\n",
              "      cursor: pointer;\n",
              "      display: none;\n",
              "      fill: #1967D2;\n",
              "      height: 32px;\n",
              "      padding: 0 0 0 0;\n",
              "      width: 32px;\n",
              "    }\n",
              "\n",
              "    .colab-df-convert:hover {\n",
              "      background-color: #E2EBFA;\n",
              "      box-shadow: 0px 1px 2px rgba(60, 64, 67, 0.3), 0px 1px 3px 1px rgba(60, 64, 67, 0.15);\n",
              "      fill: #174EA6;\n",
              "    }\n",
              "\n",
              "    .colab-df-buttons div {\n",
              "      margin-bottom: 4px;\n",
              "    }\n",
              "\n",
              "    [theme=dark] .colab-df-convert {\n",
              "      background-color: #3B4455;\n",
              "      fill: #D2E3FC;\n",
              "    }\n",
              "\n",
              "    [theme=dark] .colab-df-convert:hover {\n",
              "      background-color: #434B5C;\n",
              "      box-shadow: 0px 1px 3px 1px rgba(0, 0, 0, 0.15);\n",
              "      filter: drop-shadow(0px 1px 2px rgba(0, 0, 0, 0.3));\n",
              "      fill: #FFFFFF;\n",
              "    }\n",
              "  </style>\n",
              "\n",
              "    <script>\n",
              "      const buttonEl =\n",
              "        document.querySelector('#df-c6a0618d-2741-44fa-af08-b384e0a71ea3 button.colab-df-convert');\n",
              "      buttonEl.style.display =\n",
              "        google.colab.kernel.accessAllowed ? 'block' : 'none';\n",
              "\n",
              "      async function convertToInteractive(key) {\n",
              "        const element = document.querySelector('#df-c6a0618d-2741-44fa-af08-b384e0a71ea3');\n",
              "        const dataTable =\n",
              "          await google.colab.kernel.invokeFunction('convertToInteractive',\n",
              "                                                    [key], {});\n",
              "        if (!dataTable) return;\n",
              "\n",
              "        const docLinkHtml = 'Like what you see? Visit the ' +\n",
              "          '<a target=\"_blank\" href=https://colab.research.google.com/notebooks/data_table.ipynb>data table notebook</a>'\n",
              "          + ' to learn more about interactive tables.';\n",
              "        element.innerHTML = '';\n",
              "        dataTable['output_type'] = 'display_data';\n",
              "        await google.colab.output.renderOutput(dataTable, element);\n",
              "        const docLink = document.createElement('div');\n",
              "        docLink.innerHTML = docLinkHtml;\n",
              "        element.appendChild(docLink);\n",
              "      }\n",
              "    </script>\n",
              "  </div>\n",
              "\n",
              "\n",
              "    <div id=\"df-f11ee278-f9bd-46eb-bec8-2f5b91d250be\">\n",
              "      <button class=\"colab-df-quickchart\" onclick=\"quickchart('df-f11ee278-f9bd-46eb-bec8-2f5b91d250be')\"\n",
              "                title=\"Suggest charts\"\n",
              "                style=\"display:none;\">\n",
              "\n",
              "<svg xmlns=\"http://www.w3.org/2000/svg\" height=\"24px\"viewBox=\"0 0 24 24\"\n",
              "     width=\"24px\">\n",
              "    <g>\n",
              "        <path d=\"M19 3H5c-1.1 0-2 .9-2 2v14c0 1.1.9 2 2 2h14c1.1 0 2-.9 2-2V5c0-1.1-.9-2-2-2zM9 17H7v-7h2v7zm4 0h-2V7h2v10zm4 0h-2v-4h2v4z\"/>\n",
              "    </g>\n",
              "</svg>\n",
              "      </button>\n",
              "\n",
              "<style>\n",
              "  .colab-df-quickchart {\n",
              "      --bg-color: #E8F0FE;\n",
              "      --fill-color: #1967D2;\n",
              "      --hover-bg-color: #E2EBFA;\n",
              "      --hover-fill-color: #174EA6;\n",
              "      --disabled-fill-color: #AAA;\n",
              "      --disabled-bg-color: #DDD;\n",
              "  }\n",
              "\n",
              "  [theme=dark] .colab-df-quickchart {\n",
              "      --bg-color: #3B4455;\n",
              "      --fill-color: #D2E3FC;\n",
              "      --hover-bg-color: #434B5C;\n",
              "      --hover-fill-color: #FFFFFF;\n",
              "      --disabled-bg-color: #3B4455;\n",
              "      --disabled-fill-color: #666;\n",
              "  }\n",
              "\n",
              "  .colab-df-quickchart {\n",
              "    background-color: var(--bg-color);\n",
              "    border: none;\n",
              "    border-radius: 50%;\n",
              "    cursor: pointer;\n",
              "    display: none;\n",
              "    fill: var(--fill-color);\n",
              "    height: 32px;\n",
              "    padding: 0;\n",
              "    width: 32px;\n",
              "  }\n",
              "\n",
              "  .colab-df-quickchart:hover {\n",
              "    background-color: var(--hover-bg-color);\n",
              "    box-shadow: 0 1px 2px rgba(60, 64, 67, 0.3), 0 1px 3px 1px rgba(60, 64, 67, 0.15);\n",
              "    fill: var(--button-hover-fill-color);\n",
              "  }\n",
              "\n",
              "  .colab-df-quickchart-complete:disabled,\n",
              "  .colab-df-quickchart-complete:disabled:hover {\n",
              "    background-color: var(--disabled-bg-color);\n",
              "    fill: var(--disabled-fill-color);\n",
              "    box-shadow: none;\n",
              "  }\n",
              "\n",
              "  .colab-df-spinner {\n",
              "    border: 2px solid var(--fill-color);\n",
              "    border-color: transparent;\n",
              "    border-bottom-color: var(--fill-color);\n",
              "    animation:\n",
              "      spin 1s steps(1) infinite;\n",
              "  }\n",
              "\n",
              "  @keyframes spin {\n",
              "    0% {\n",
              "      border-color: transparent;\n",
              "      border-bottom-color: var(--fill-color);\n",
              "      border-left-color: var(--fill-color);\n",
              "    }\n",
              "    20% {\n",
              "      border-color: transparent;\n",
              "      border-left-color: var(--fill-color);\n",
              "      border-top-color: var(--fill-color);\n",
              "    }\n",
              "    30% {\n",
              "      border-color: transparent;\n",
              "      border-left-color: var(--fill-color);\n",
              "      border-top-color: var(--fill-color);\n",
              "      border-right-color: var(--fill-color);\n",
              "    }\n",
              "    40% {\n",
              "      border-color: transparent;\n",
              "      border-right-color: var(--fill-color);\n",
              "      border-top-color: var(--fill-color);\n",
              "    }\n",
              "    60% {\n",
              "      border-color: transparent;\n",
              "      border-right-color: var(--fill-color);\n",
              "    }\n",
              "    80% {\n",
              "      border-color: transparent;\n",
              "      border-right-color: var(--fill-color);\n",
              "      border-bottom-color: var(--fill-color);\n",
              "    }\n",
              "    90% {\n",
              "      border-color: transparent;\n",
              "      border-bottom-color: var(--fill-color);\n",
              "    }\n",
              "  }\n",
              "</style>\n",
              "\n",
              "      <script>\n",
              "        async function quickchart(key) {\n",
              "          const quickchartButtonEl =\n",
              "            document.querySelector('#' + key + ' button');\n",
              "          quickchartButtonEl.disabled = true;  // To prevent multiple clicks.\n",
              "          quickchartButtonEl.classList.add('colab-df-spinner');\n",
              "          try {\n",
              "            const charts = await google.colab.kernel.invokeFunction(\n",
              "                'suggestCharts', [key], {});\n",
              "          } catch (error) {\n",
              "            console.error('Error during call to suggestCharts:', error);\n",
              "          }\n",
              "          quickchartButtonEl.classList.remove('colab-df-spinner');\n",
              "          quickchartButtonEl.classList.add('colab-df-quickchart-complete');\n",
              "        }\n",
              "        (() => {\n",
              "          let quickchartButtonEl =\n",
              "            document.querySelector('#df-f11ee278-f9bd-46eb-bec8-2f5b91d250be button');\n",
              "          quickchartButtonEl.style.display =\n",
              "            google.colab.kernel.accessAllowed ? 'block' : 'none';\n",
              "        })();\n",
              "      </script>\n",
              "    </div>\n",
              "\n",
              "    </div>\n",
              "  </div>\n"
            ],
            "application/vnd.google.colaboratory.intrinsic+json": {
              "type": "dataframe",
              "summary": "{\n  \"name\": \"df[['full_text', 'cleaned']]\",\n  \"rows\": 10,\n  \"fields\": [\n    {\n      \"column\": \"full_text\",\n      \"properties\": {\n        \"dtype\": \"string\",\n        \"num_unique_values\": 10,\n        \"samples\": [\n          \"Setiap individu yg menyalahkan korban kekerasan seksual wajib dimasukkan ke barak oleh Kang Dedi Mulyadi\",\n          \"Gubernur Jawa Barat Dedi Mulyadi secara berapi-api menegaskan akan melanjutkan program pendidikan di barak militer bagi siswa nakal gelombang kedua. Dedi mengatakan program ini dilanjutkan setelah 273 siswa lulus gelombang pertama dari program pendidikan di barak militer. https://t.co/i01vd21tgZ\",\n          \"[FULL] Menteri HAM Natalius Pigai Sikapi Kebijakan Dedi Mulyadi Kirim Anak Bermasalah ke Barak TNI https://t.co/ZGLPGtemse\"\n        ],\n        \"semantic_type\": \"\",\n        \"description\": \"\"\n      }\n    },\n    {\n      \"column\": \"cleaned\",\n      \"properties\": {\n        \"dtype\": \"string\",\n        \"num_unique_values\": 10,\n        \"samples\": [\n          \"individu yg salah korban keras seksual wajib masuk barak kang dedi mulyadi\",\n          \"gubernur jawa barat dedi mulyadi berapiapi program didik barak militer siswa nakal gelombang dedi program siswa lulus gelombang program didik barak militer\",\n          \"full menteri ham natalius pigai sikap bijak dedi mulyadi kirim anak barak tni\"\n        ],\n        \"semantic_type\": \"\",\n        \"description\": \"\"\n      }\n    }\n  ]\n}"
            }
          },
          "metadata": {},
          "execution_count": 12
        }
      ]
    }
  ]
}